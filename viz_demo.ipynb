{
 "cells": [
  {
   "cell_type": "code",
   "execution_count": 1,
   "metadata": {
    "collapsed": true
   },
   "outputs": [
    {
     "name": "stdout",
     "output_type": "stream",
     "text": [
      "dpr [0.0, 0.0, 0.0, 0.0, 0.0, 0.0, 0.0, 0.0, 0.0, 0.0, 0.0, 0.0]\n",
      "num_knn [9, 9, 10, 11, 12, 13, 13, 14, 15, 16, 17, 18]\n",
      "dilation [1, 1, 1, 1, 2, 2, 2, 2, 3, 3, 3, 3]\n"
     ]
    },
    {
     "data": {
      "text/plain": "ViG(\n  (stem): Stem(\n    (convs): Sequential(\n      (0): Conv2d(3, 24, kernel_size=(3, 3), stride=(2, 2), padding=(1, 1))\n      (1): BatchNorm2d(24, eps=1e-05, momentum=0.1, affine=True, track_running_stats=True)\n      (2): GELU()\n      (3): Conv2d(24, 48, kernel_size=(3, 3), stride=(2, 2), padding=(1, 1))\n      (4): BatchNorm2d(48, eps=1e-05, momentum=0.1, affine=True, track_running_stats=True)\n      (5): GELU()\n      (6): Conv2d(48, 96, kernel_size=(3, 3), stride=(2, 2), padding=(1, 1))\n      (7): BatchNorm2d(96, eps=1e-05, momentum=0.1, affine=True, track_running_stats=True)\n      (8): GELU()\n      (9): Conv2d(96, 192, kernel_size=(3, 3), stride=(2, 2), padding=(1, 1))\n      (10): BatchNorm2d(192, eps=1e-05, momentum=0.1, affine=True, track_running_stats=True)\n      (11): GELU()\n      (12): Conv2d(192, 192, kernel_size=(3, 3), stride=(1, 1), padding=(1, 1))\n      (13): BatchNorm2d(192, eps=1e-05, momentum=0.1, affine=True, track_running_stats=True)\n    )\n  )\n  (backbone): Sequential(\n    (0): Block(\n      (grapher): Grapher(\n        (fc1): Sequential(\n          (0): Conv2d(192, 192, kernel_size=(1, 1), stride=(1, 1))\n          (1): BatchNorm2d(192, eps=1e-05, momentum=0.1, affine=True, track_running_stats=True)\n        )\n        (graph_conv): DyGraphConv2d(\n          (gconv): MRConv2d(\n            (nn): BasicConv(\n              (0): Conv2d(384, 384, kernel_size=(1, 1), stride=(1, 1), groups=4)\n              (1): BatchNorm2d(384, eps=1e-05, momentum=0.1, affine=True, track_running_stats=True)\n              (2): GELU()\n            )\n          )\n          (dilated_knn_graph): DenseDilatedKnnGraph(\n            (_dilated): DenseDilated()\n          )\n        )\n        (fc2): Sequential(\n          (0): Conv2d(384, 192, kernel_size=(1, 1), stride=(1, 1))\n          (1): BatchNorm2d(192, eps=1e-05, momentum=0.1, affine=True, track_running_stats=True)\n        )\n        (drop_path): Identity()\n      )\n      (FFN): FFN(\n        (fc1): Sequential(\n          (0): Conv2d(192, 768, kernel_size=(1, 1), stride=(1, 1))\n          (1): BatchNorm2d(768, eps=1e-05, momentum=0.1, affine=True, track_running_stats=True)\n        )\n        (act): GELU()\n        (fc2): Sequential(\n          (0): Conv2d(768, 192, kernel_size=(1, 1), stride=(1, 1))\n          (1): BatchNorm2d(192, eps=1e-05, momentum=0.1, affine=True, track_running_stats=True)\n        )\n        (drop_path): Identity()\n      )\n    )\n    (1): Block(\n      (grapher): Grapher(\n        (fc1): Sequential(\n          (0): Conv2d(192, 192, kernel_size=(1, 1), stride=(1, 1))\n          (1): BatchNorm2d(192, eps=1e-05, momentum=0.1, affine=True, track_running_stats=True)\n        )\n        (graph_conv): DyGraphConv2d(\n          (gconv): MRConv2d(\n            (nn): BasicConv(\n              (0): Conv2d(384, 384, kernel_size=(1, 1), stride=(1, 1), groups=4)\n              (1): BatchNorm2d(384, eps=1e-05, momentum=0.1, affine=True, track_running_stats=True)\n              (2): GELU()\n            )\n          )\n          (dilated_knn_graph): DenseDilatedKnnGraph(\n            (_dilated): DenseDilated()\n          )\n        )\n        (fc2): Sequential(\n          (0): Conv2d(384, 192, kernel_size=(1, 1), stride=(1, 1))\n          (1): BatchNorm2d(192, eps=1e-05, momentum=0.1, affine=True, track_running_stats=True)\n        )\n        (drop_path): Identity()\n      )\n      (FFN): FFN(\n        (fc1): Sequential(\n          (0): Conv2d(192, 768, kernel_size=(1, 1), stride=(1, 1))\n          (1): BatchNorm2d(768, eps=1e-05, momentum=0.1, affine=True, track_running_stats=True)\n        )\n        (act): GELU()\n        (fc2): Sequential(\n          (0): Conv2d(768, 192, kernel_size=(1, 1), stride=(1, 1))\n          (1): BatchNorm2d(192, eps=1e-05, momentum=0.1, affine=True, track_running_stats=True)\n        )\n        (drop_path): Identity()\n      )\n    )\n    (2): Block(\n      (grapher): Grapher(\n        (fc1): Sequential(\n          (0): Conv2d(192, 192, kernel_size=(1, 1), stride=(1, 1))\n          (1): BatchNorm2d(192, eps=1e-05, momentum=0.1, affine=True, track_running_stats=True)\n        )\n        (graph_conv): DyGraphConv2d(\n          (gconv): MRConv2d(\n            (nn): BasicConv(\n              (0): Conv2d(384, 384, kernel_size=(1, 1), stride=(1, 1), groups=4)\n              (1): BatchNorm2d(384, eps=1e-05, momentum=0.1, affine=True, track_running_stats=True)\n              (2): GELU()\n            )\n          )\n          (dilated_knn_graph): DenseDilatedKnnGraph(\n            (_dilated): DenseDilated()\n          )\n        )\n        (fc2): Sequential(\n          (0): Conv2d(384, 192, kernel_size=(1, 1), stride=(1, 1))\n          (1): BatchNorm2d(192, eps=1e-05, momentum=0.1, affine=True, track_running_stats=True)\n        )\n        (drop_path): Identity()\n      )\n      (FFN): FFN(\n        (fc1): Sequential(\n          (0): Conv2d(192, 768, kernel_size=(1, 1), stride=(1, 1))\n          (1): BatchNorm2d(768, eps=1e-05, momentum=0.1, affine=True, track_running_stats=True)\n        )\n        (act): GELU()\n        (fc2): Sequential(\n          (0): Conv2d(768, 192, kernel_size=(1, 1), stride=(1, 1))\n          (1): BatchNorm2d(192, eps=1e-05, momentum=0.1, affine=True, track_running_stats=True)\n        )\n        (drop_path): Identity()\n      )\n    )\n    (3): Block(\n      (grapher): Grapher(\n        (fc1): Sequential(\n          (0): Conv2d(192, 192, kernel_size=(1, 1), stride=(1, 1))\n          (1): BatchNorm2d(192, eps=1e-05, momentum=0.1, affine=True, track_running_stats=True)\n        )\n        (graph_conv): DyGraphConv2d(\n          (gconv): MRConv2d(\n            (nn): BasicConv(\n              (0): Conv2d(384, 384, kernel_size=(1, 1), stride=(1, 1), groups=4)\n              (1): BatchNorm2d(384, eps=1e-05, momentum=0.1, affine=True, track_running_stats=True)\n              (2): GELU()\n            )\n          )\n          (dilated_knn_graph): DenseDilatedKnnGraph(\n            (_dilated): DenseDilated()\n          )\n        )\n        (fc2): Sequential(\n          (0): Conv2d(384, 192, kernel_size=(1, 1), stride=(1, 1))\n          (1): BatchNorm2d(192, eps=1e-05, momentum=0.1, affine=True, track_running_stats=True)\n        )\n        (drop_path): Identity()\n      )\n      (FFN): FFN(\n        (fc1): Sequential(\n          (0): Conv2d(192, 768, kernel_size=(1, 1), stride=(1, 1))\n          (1): BatchNorm2d(768, eps=1e-05, momentum=0.1, affine=True, track_running_stats=True)\n        )\n        (act): GELU()\n        (fc2): Sequential(\n          (0): Conv2d(768, 192, kernel_size=(1, 1), stride=(1, 1))\n          (1): BatchNorm2d(192, eps=1e-05, momentum=0.1, affine=True, track_running_stats=True)\n        )\n        (drop_path): Identity()\n      )\n    )\n    (4): Block(\n      (grapher): Grapher(\n        (fc1): Sequential(\n          (0): Conv2d(192, 192, kernel_size=(1, 1), stride=(1, 1))\n          (1): BatchNorm2d(192, eps=1e-05, momentum=0.1, affine=True, track_running_stats=True)\n        )\n        (graph_conv): DyGraphConv2d(\n          (gconv): MRConv2d(\n            (nn): BasicConv(\n              (0): Conv2d(384, 384, kernel_size=(1, 1), stride=(1, 1), groups=4)\n              (1): BatchNorm2d(384, eps=1e-05, momentum=0.1, affine=True, track_running_stats=True)\n              (2): GELU()\n            )\n          )\n          (dilated_knn_graph): DenseDilatedKnnGraph(\n            (_dilated): DenseDilated()\n          )\n        )\n        (fc2): Sequential(\n          (0): Conv2d(384, 192, kernel_size=(1, 1), stride=(1, 1))\n          (1): BatchNorm2d(192, eps=1e-05, momentum=0.1, affine=True, track_running_stats=True)\n        )\n        (drop_path): Identity()\n      )\n      (FFN): FFN(\n        (fc1): Sequential(\n          (0): Conv2d(192, 768, kernel_size=(1, 1), stride=(1, 1))\n          (1): BatchNorm2d(768, eps=1e-05, momentum=0.1, affine=True, track_running_stats=True)\n        )\n        (act): GELU()\n        (fc2): Sequential(\n          (0): Conv2d(768, 192, kernel_size=(1, 1), stride=(1, 1))\n          (1): BatchNorm2d(192, eps=1e-05, momentum=0.1, affine=True, track_running_stats=True)\n        )\n        (drop_path): Identity()\n      )\n    )\n    (5): Block(\n      (grapher): Grapher(\n        (fc1): Sequential(\n          (0): Conv2d(192, 192, kernel_size=(1, 1), stride=(1, 1))\n          (1): BatchNorm2d(192, eps=1e-05, momentum=0.1, affine=True, track_running_stats=True)\n        )\n        (graph_conv): DyGraphConv2d(\n          (gconv): MRConv2d(\n            (nn): BasicConv(\n              (0): Conv2d(384, 384, kernel_size=(1, 1), stride=(1, 1), groups=4)\n              (1): BatchNorm2d(384, eps=1e-05, momentum=0.1, affine=True, track_running_stats=True)\n              (2): GELU()\n            )\n          )\n          (dilated_knn_graph): DenseDilatedKnnGraph(\n            (_dilated): DenseDilated()\n          )\n        )\n        (fc2): Sequential(\n          (0): Conv2d(384, 192, kernel_size=(1, 1), stride=(1, 1))\n          (1): BatchNorm2d(192, eps=1e-05, momentum=0.1, affine=True, track_running_stats=True)\n        )\n        (drop_path): Identity()\n      )\n      (FFN): FFN(\n        (fc1): Sequential(\n          (0): Conv2d(192, 768, kernel_size=(1, 1), stride=(1, 1))\n          (1): BatchNorm2d(768, eps=1e-05, momentum=0.1, affine=True, track_running_stats=True)\n        )\n        (act): GELU()\n        (fc2): Sequential(\n          (0): Conv2d(768, 192, kernel_size=(1, 1), stride=(1, 1))\n          (1): BatchNorm2d(192, eps=1e-05, momentum=0.1, affine=True, track_running_stats=True)\n        )\n        (drop_path): Identity()\n      )\n    )\n    (6): Block(\n      (grapher): Grapher(\n        (fc1): Sequential(\n          (0): Conv2d(192, 192, kernel_size=(1, 1), stride=(1, 1))\n          (1): BatchNorm2d(192, eps=1e-05, momentum=0.1, affine=True, track_running_stats=True)\n        )\n        (graph_conv): DyGraphConv2d(\n          (gconv): MRConv2d(\n            (nn): BasicConv(\n              (0): Conv2d(384, 384, kernel_size=(1, 1), stride=(1, 1), groups=4)\n              (1): BatchNorm2d(384, eps=1e-05, momentum=0.1, affine=True, track_running_stats=True)\n              (2): GELU()\n            )\n          )\n          (dilated_knn_graph): DenseDilatedKnnGraph(\n            (_dilated): DenseDilated()\n          )\n        )\n        (fc2): Sequential(\n          (0): Conv2d(384, 192, kernel_size=(1, 1), stride=(1, 1))\n          (1): BatchNorm2d(192, eps=1e-05, momentum=0.1, affine=True, track_running_stats=True)\n        )\n        (drop_path): Identity()\n      )\n      (FFN): FFN(\n        (fc1): Sequential(\n          (0): Conv2d(192, 768, kernel_size=(1, 1), stride=(1, 1))\n          (1): BatchNorm2d(768, eps=1e-05, momentum=0.1, affine=True, track_running_stats=True)\n        )\n        (act): GELU()\n        (fc2): Sequential(\n          (0): Conv2d(768, 192, kernel_size=(1, 1), stride=(1, 1))\n          (1): BatchNorm2d(192, eps=1e-05, momentum=0.1, affine=True, track_running_stats=True)\n        )\n        (drop_path): Identity()\n      )\n    )\n    (7): Block(\n      (grapher): Grapher(\n        (fc1): Sequential(\n          (0): Conv2d(192, 192, kernel_size=(1, 1), stride=(1, 1))\n          (1): BatchNorm2d(192, eps=1e-05, momentum=0.1, affine=True, track_running_stats=True)\n        )\n        (graph_conv): DyGraphConv2d(\n          (gconv): MRConv2d(\n            (nn): BasicConv(\n              (0): Conv2d(384, 384, kernel_size=(1, 1), stride=(1, 1), groups=4)\n              (1): BatchNorm2d(384, eps=1e-05, momentum=0.1, affine=True, track_running_stats=True)\n              (2): GELU()\n            )\n          )\n          (dilated_knn_graph): DenseDilatedKnnGraph(\n            (_dilated): DenseDilated()\n          )\n        )\n        (fc2): Sequential(\n          (0): Conv2d(384, 192, kernel_size=(1, 1), stride=(1, 1))\n          (1): BatchNorm2d(192, eps=1e-05, momentum=0.1, affine=True, track_running_stats=True)\n        )\n        (drop_path): Identity()\n      )\n      (FFN): FFN(\n        (fc1): Sequential(\n          (0): Conv2d(192, 768, kernel_size=(1, 1), stride=(1, 1))\n          (1): BatchNorm2d(768, eps=1e-05, momentum=0.1, affine=True, track_running_stats=True)\n        )\n        (act): GELU()\n        (fc2): Sequential(\n          (0): Conv2d(768, 192, kernel_size=(1, 1), stride=(1, 1))\n          (1): BatchNorm2d(192, eps=1e-05, momentum=0.1, affine=True, track_running_stats=True)\n        )\n        (drop_path): Identity()\n      )\n    )\n    (8): Block(\n      (grapher): Grapher(\n        (fc1): Sequential(\n          (0): Conv2d(192, 192, kernel_size=(1, 1), stride=(1, 1))\n          (1): BatchNorm2d(192, eps=1e-05, momentum=0.1, affine=True, track_running_stats=True)\n        )\n        (graph_conv): DyGraphConv2d(\n          (gconv): MRConv2d(\n            (nn): BasicConv(\n              (0): Conv2d(384, 384, kernel_size=(1, 1), stride=(1, 1), groups=4)\n              (1): BatchNorm2d(384, eps=1e-05, momentum=0.1, affine=True, track_running_stats=True)\n              (2): GELU()\n            )\n          )\n          (dilated_knn_graph): DenseDilatedKnnGraph(\n            (_dilated): DenseDilated()\n          )\n        )\n        (fc2): Sequential(\n          (0): Conv2d(384, 192, kernel_size=(1, 1), stride=(1, 1))\n          (1): BatchNorm2d(192, eps=1e-05, momentum=0.1, affine=True, track_running_stats=True)\n        )\n        (drop_path): Identity()\n      )\n      (FFN): FFN(\n        (fc1): Sequential(\n          (0): Conv2d(192, 768, kernel_size=(1, 1), stride=(1, 1))\n          (1): BatchNorm2d(768, eps=1e-05, momentum=0.1, affine=True, track_running_stats=True)\n        )\n        (act): GELU()\n        (fc2): Sequential(\n          (0): Conv2d(768, 192, kernel_size=(1, 1), stride=(1, 1))\n          (1): BatchNorm2d(192, eps=1e-05, momentum=0.1, affine=True, track_running_stats=True)\n        )\n        (drop_path): Identity()\n      )\n    )\n    (9): Block(\n      (grapher): Grapher(\n        (fc1): Sequential(\n          (0): Conv2d(192, 192, kernel_size=(1, 1), stride=(1, 1))\n          (1): BatchNorm2d(192, eps=1e-05, momentum=0.1, affine=True, track_running_stats=True)\n        )\n        (graph_conv): DyGraphConv2d(\n          (gconv): MRConv2d(\n            (nn): BasicConv(\n              (0): Conv2d(384, 384, kernel_size=(1, 1), stride=(1, 1), groups=4)\n              (1): BatchNorm2d(384, eps=1e-05, momentum=0.1, affine=True, track_running_stats=True)\n              (2): GELU()\n            )\n          )\n          (dilated_knn_graph): DenseDilatedKnnGraph(\n            (_dilated): DenseDilated()\n          )\n        )\n        (fc2): Sequential(\n          (0): Conv2d(384, 192, kernel_size=(1, 1), stride=(1, 1))\n          (1): BatchNorm2d(192, eps=1e-05, momentum=0.1, affine=True, track_running_stats=True)\n        )\n        (drop_path): Identity()\n      )\n      (FFN): FFN(\n        (fc1): Sequential(\n          (0): Conv2d(192, 768, kernel_size=(1, 1), stride=(1, 1))\n          (1): BatchNorm2d(768, eps=1e-05, momentum=0.1, affine=True, track_running_stats=True)\n        )\n        (act): GELU()\n        (fc2): Sequential(\n          (0): Conv2d(768, 192, kernel_size=(1, 1), stride=(1, 1))\n          (1): BatchNorm2d(192, eps=1e-05, momentum=0.1, affine=True, track_running_stats=True)\n        )\n        (drop_path): Identity()\n      )\n    )\n    (10): Block(\n      (grapher): Grapher(\n        (fc1): Sequential(\n          (0): Conv2d(192, 192, kernel_size=(1, 1), stride=(1, 1))\n          (1): BatchNorm2d(192, eps=1e-05, momentum=0.1, affine=True, track_running_stats=True)\n        )\n        (graph_conv): DyGraphConv2d(\n          (gconv): MRConv2d(\n            (nn): BasicConv(\n              (0): Conv2d(384, 384, kernel_size=(1, 1), stride=(1, 1), groups=4)\n              (1): BatchNorm2d(384, eps=1e-05, momentum=0.1, affine=True, track_running_stats=True)\n              (2): GELU()\n            )\n          )\n          (dilated_knn_graph): DenseDilatedKnnGraph(\n            (_dilated): DenseDilated()\n          )\n        )\n        (fc2): Sequential(\n          (0): Conv2d(384, 192, kernel_size=(1, 1), stride=(1, 1))\n          (1): BatchNorm2d(192, eps=1e-05, momentum=0.1, affine=True, track_running_stats=True)\n        )\n        (drop_path): Identity()\n      )\n      (FFN): FFN(\n        (fc1): Sequential(\n          (0): Conv2d(192, 768, kernel_size=(1, 1), stride=(1, 1))\n          (1): BatchNorm2d(768, eps=1e-05, momentum=0.1, affine=True, track_running_stats=True)\n        )\n        (act): GELU()\n        (fc2): Sequential(\n          (0): Conv2d(768, 192, kernel_size=(1, 1), stride=(1, 1))\n          (1): BatchNorm2d(192, eps=1e-05, momentum=0.1, affine=True, track_running_stats=True)\n        )\n        (drop_path): Identity()\n      )\n    )\n    (11): Block(\n      (grapher): Grapher(\n        (fc1): Sequential(\n          (0): Conv2d(192, 192, kernel_size=(1, 1), stride=(1, 1))\n          (1): BatchNorm2d(192, eps=1e-05, momentum=0.1, affine=True, track_running_stats=True)\n        )\n        (graph_conv): DyGraphConv2d(\n          (gconv): MRConv2d(\n            (nn): BasicConv(\n              (0): Conv2d(384, 384, kernel_size=(1, 1), stride=(1, 1), groups=4)\n              (1): BatchNorm2d(384, eps=1e-05, momentum=0.1, affine=True, track_running_stats=True)\n              (2): GELU()\n            )\n          )\n          (dilated_knn_graph): DenseDilatedKnnGraph(\n            (_dilated): DenseDilated()\n          )\n        )\n        (fc2): Sequential(\n          (0): Conv2d(384, 192, kernel_size=(1, 1), stride=(1, 1))\n          (1): BatchNorm2d(192, eps=1e-05, momentum=0.1, affine=True, track_running_stats=True)\n        )\n        (drop_path): Identity()\n      )\n      (FFN): FFN(\n        (fc1): Sequential(\n          (0): Conv2d(192, 768, kernel_size=(1, 1), stride=(1, 1))\n          (1): BatchNorm2d(768, eps=1e-05, momentum=0.1, affine=True, track_running_stats=True)\n        )\n        (act): GELU()\n        (fc2): Sequential(\n          (0): Conv2d(768, 192, kernel_size=(1, 1), stride=(1, 1))\n          (1): BatchNorm2d(192, eps=1e-05, momentum=0.1, affine=True, track_running_stats=True)\n        )\n        (drop_path): Identity()\n      )\n    )\n  )\n  (prediction): Sequential(\n    (0): Conv2d(192, 1024, kernel_size=(1, 1), stride=(1, 1))\n    (1): BatchNorm2d(1024, eps=1e-05, momentum=0.1, affine=True, track_running_stats=True)\n    (2): GELU()\n    (3): Dropout(p=0, inplace=False)\n    (4): Conv2d(1024, 1000, kernel_size=(1, 1), stride=(1, 1))\n  )\n)"
     },
     "execution_count": 1,
     "metadata": {},
     "output_type": "execute_result"
    }
   ],
   "source": [
    "import argparse\n",
    "from viz_nodes import Viz_CAM\n",
    "import timm\n",
    "\n",
    "parser = argparse.ArgumentParser()\n",
    "parser.add_argument(\"--arch\",type=str,default='vig_ti',choices=['graphconvnet_ti,graphconvnet_s','vig_ti','vig_s',\"vig_b\"])\n",
    "parser.add_argument(\"--image_root\",type=str,default='./demo_img.JPEG',help='image path or directory')\n",
    "parser.add_argument(\"--output_root\",type=str,default='./viz_output')\n",
    "parser.add_argument(\"--hr_ratio\",type=int,default=3,help='higher resolution for better visualization')\n",
    "args = parser.parse_args([])\n",
    "\n",
    "ARCH_CKPT_MAP={\"graphconvnet_ti\":\"GraphConvNet_Ti_77_1.pth.tar\",  #12 layers\n",
    "               \"graphconvnet_s\":\"GraphConvNet_S_82.pth.tar\",  # 16 layers\n",
    "               \"vig_ti\":'vig_ti_74.5.pth.tar',   #12 layers\n",
    "               \"vig_s\":'vig_s_80.6.pth.tar',     # 16 layers\n",
    "               \"vig_b\":\"vig_b_82.6.pth.tar\",  # 16 layers\n",
    "               }\n",
    "ckpt_path = './viz_nodes/ckpt/'+ ARCH_CKPT_MAP[args.arch]\n",
    "args.output_root = args.output_root+ f'/{args.arch}/'\n",
    "model =  timm.create_model(args.arch,pretrained=True,checkpoint_path=ckpt_path)\n",
    "model.eval()\n",
    "\n"
   ]
  },
  {
   "cell_type": "code",
   "execution_count": 2,
   "outputs": [
    {
     "name": "stdout",
     "output_type": "stream",
     "text": [
      "⭐ Make a new directory:./viz_output/vig_ti/demo_img\n",
      "./demo_img.JPEG\n",
      "⭐⭐⭐⭐⭐ top 1 ⭐⭐⭐⭐⭐\n",
      "Not given label list,and we will use ImageNet label\n",
      "{'tench, Tinca tinca_0': '0.85697'}\n",
      "Neighbor(layer_idx=3, center_idx=115, neighbors=[115, 116, 114, 118, 117, 99, 119, 130, 100])\n",
      "Neighbor(layer_idx=7, center_idx=0, neighbors=[0, 15, 12, 13, 1, 22, 16, 68, 26])\n",
      "Neighbor(layer_idx=11, center_idx=135, neighbors=[135, 114, 117, 63, 77, 75, 76, 88, 110])\n"
     ]
    }
   ],
   "source": [
    "## number index only available for GraphConvNet，Please select layers according your models.\n",
    "target_layers_idx=[3,7,11]  # ⭐️⭐️⭐️please set your target layers such as 3,7,11  5,10,15\n",
    "if 'graphconvnet' in args.arch or 'vig' in args.arch:\n",
    "    targer_layers =[model.backbone[idx].grapher.fc2[0] for idx in target_layers_idx]\n",
    "cam_visualizer=Viz_CAM(image_root=args.image_root,output_root_dir=args.output_root,hr_ratio=args.hr_ratio,model = model,target_layers_idx=target_layers_idx)\n",
    "cam_visualizer.process(viz_neighbors=9,save_topk=1) # ⭐️⭐️⭐For simplicity, I only visualize 9 neighbors"
   ],
   "metadata": {
    "collapsed": false
   }
  },
  {
   "cell_type": "code",
   "execution_count": 2,
   "outputs": [],
   "source": [],
   "metadata": {
    "collapsed": false
   }
  }
 ],
 "metadata": {
  "kernelspec": {
   "display_name": "Python 3",
   "language": "python",
   "name": "python3"
  },
  "language_info": {
   "codemirror_mode": {
    "name": "ipython",
    "version": 2
   },
   "file_extension": ".py",
   "mimetype": "text/x-python",
   "name": "python",
   "nbconvert_exporter": "python",
   "pygments_lexer": "ipython2",
   "version": "2.7.6"
  }
 },
 "nbformat": 4,
 "nbformat_minor": 0
}
